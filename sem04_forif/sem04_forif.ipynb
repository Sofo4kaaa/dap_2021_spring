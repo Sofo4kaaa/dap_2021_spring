{
 "cells": [
  {
   "cell_type": "markdown",
   "metadata": {},
   "source": [
    "\n",
    "    \n",
    "<img src=\"https://keep-calm.net/images/keep-calm-and-write-code-1500-1500.jpg\" alt=\"drawing\" width=\"600px\"/>"
   ]
  },
  {
   "cell_type": "code",
   "execution_count": null,
   "metadata": {},
   "outputs": [],
   "source": []
  },
  {
   "cell_type": "markdown",
   "metadata": {},
   "source": [
    "### Problem 1. Valid Palindrome\n",
    "    \n",
    "Given a non-empty string s, you may delete at most one character. Judge whether you can make it a palindrome.\n"
   ]
  },
  {
   "cell_type": "code",
   "execution_count": null,
   "metadata": {},
   "outputs": [],
   "source": [
    "def is_almost_palindrome(string):\n",
    "    # YOUR CODE HERE\n",
    "    return"
   ]
  },
  {
   "cell_type": "code",
   "execution_count": null,
   "metadata": {},
   "outputs": [],
   "source": [
    "VALID_PALINDROME_TESTS_DATA = [\n",
    "    (\"aba\", True),\n",
    "    (\"abca\", True),\n",
    "    (\"abcd\", False)\n",
    "]\n",
    "test_problem(is_almost_palindrome, VALID_PALINDROME_TESTS_DATA)"
   ]
  },
  {
   "cell_type": "markdown",
   "metadata": {},
   "source": [
    "### Problem 2. Remove Repeated Spaces \n",
    "\n",
    "Given a string. You need to remove all repeated spaces without using extra memory\n",
    "\n",
    "\"where &nbsp;  is &nbsp; &nbsp; &nbsp; &nbsp; my &nbsp; &nbsp; &nbsp; cookie\" -> \"where is my cookie\"\n"
   ]
  },
  {
   "cell_type": "code",
   "execution_count": null,
   "metadata": {},
   "outputs": [],
   "source": [
    "def remove_repeated_spaces(string_list):\n",
    "    # YOUR CODE HERE\n",
    "    return"
   ]
  },
  {
   "cell_type": "code",
   "execution_count": null,
   "metadata": {},
   "outputs": [],
   "source": [
    "TWO_SPACES_TEST_DATA = [\n",
    "    ([list(\"aa  a  a   a\")], list(\"aa a a a\")),\n",
    "]\n",
    "test_problem(remove_repeated_spaces, TWO_SPACES_TEST_DATA)"
   ]
  },
  {
   "cell_type": "markdown",
   "metadata": {},
   "source": [
    "### Problem 3. Simple moving average\n",
    "\n",
    "https://en.wikipedia.org/wiki/Moving_average"
   ]
  },
  {
   "cell_type": "code",
   "execution_count": null,
   "metadata": {},
   "outputs": [],
   "source": [
    "def moving_average(array, window):\n",
    "    # YOUR CODE HERE\n",
    "    return\n"
   ]
  },
  {
   "cell_type": "code",
   "execution_count": null,
   "metadata": {},
   "outputs": [],
   "source": [
    "# Опционально. Подумайте как можно сделать алгоритм сильно быстрее если использовать cumsum\n",
    "def fast_moving_average(array, window):\n",
    "    # YOUR CODE HERE\n",
    "    return"
   ]
  },
  {
   "cell_type": "code",
   "execution_count": 1,
   "metadata": {},
   "outputs": [],
   "source": [
    "# Тут не будет тестов. Тут семинарист покажет визуализацию вашего алгоритма на которую нужно будет просто посмотреть\n",
    "# В данный момент вам не нужно понимать как работает этот код\n",
    "import numpy as np\n",
    "import matplotlib\n",
    "import matplotlib.pyplot as plt\n",
    "\n",
    "N = 1000\n",
    "WINDOW = 10\n",
    "\n",
    "array = np.sqrt(np.linspace(0, 100, N)) + np.random.normal(0, 1, N)\n",
    "array = np.round(array, 2)\n",
    "plt.figure(figsize=(12, 3))\n",
    "plt.plot(array)\n",
    "plt.plot(moving_average(np.copy(array), WINDOW))\n",
    "plt.show()\n",
    "\n"
   ]
  },
  {
   "cell_type": "code",
   "execution_count": null,
   "metadata": {},
   "outputs": [],
   "source": []
  }
 ],
 "metadata": {
  "kernelspec": {
   "display_name": "Python 3",
   "language": "python",
   "name": "python3"
  },
  "language_info": {
   "codemirror_mode": {
    "name": "ipython",
    "version": 3
   },
   "file_extension": ".py",
   "mimetype": "text/x-python",
   "name": "python",
   "nbconvert_exporter": "python",
   "pygments_lexer": "ipython3",
   "version": "3.6.9"
  }
 },
 "nbformat": 4,
 "nbformat_minor": 2
}
